{
 "cells": [
  {
   "cell_type": "markdown",
   "id": "b7dd7ceb",
   "metadata": {},
   "source": [
    "-------------------------------------------------------------------------------------------------------------------------------\n",
    "<img align=\"right\" src=\"https://upload.wikimedia.org/wikipedia/commons/c/c8/Iteso_logo.jpg\" width=\"100\" height=\"100\"> \n",
    "\n",
    "# <font color='#797983'> **Métodos Estadísticos Bayesianos | Otoño 2022.**\n",
    "### <font color='#1A2478'> **Instituto Tecnológico y de Estudios Superiores de Occidente**.\n",
    "\n",
    "**<font color='#797983'>Nombres:** Javier Contreras, Bryan Manica\n",
    "    \n",
    "**<font color='#797983'>Expediente:** 722176.\n",
    "    \n",
    "**<font color='#797983'>Profesor:** Esteban Jiménez Rodríguez.\n",
    "    \n",
    "**<font color='#797983'>Fecha:** 1 de diciembre del 2022.\n",
    "    \n",
    "### <font color='#797983'> **Proyecto Final. Determinación óptima de una tasa de interés.**\n",
    "-------------------------------------------------------------------------------------------------------------------------------"
   ]
  },
  {
   "cell_type": "markdown",
   "id": "bed86140",
   "metadata": {},
   "source": [
    "## Introducción.\n",
    "---"
   ]
  },
  {
   "cell_type": "code",
   "execution_count": null,
   "id": "2b75b4e6",
   "metadata": {},
   "outputs": [],
   "source": []
  },
  {
   "cell_type": "markdown",
   "id": "2462489f",
   "metadata": {},
   "source": [
    "## Objetivos.\n",
    "---"
   ]
  },
  {
   "cell_type": "code",
   "execution_count": null,
   "id": "af85719d",
   "metadata": {},
   "outputs": [],
   "source": []
  },
  {
   "cell_type": "markdown",
   "id": "057d9d77",
   "metadata": {},
   "source": [
    "## Definición del problema.\n",
    "---"
   ]
  },
  {
   "cell_type": "code",
   "execution_count": null,
   "id": "219c0899",
   "metadata": {},
   "outputs": [],
   "source": []
  },
  {
   "cell_type": "markdown",
   "id": "c4698e3e",
   "metadata": {},
   "source": [
    "## Probabilidad de Default.\n",
    "---"
   ]
  },
  {
   "cell_type": "code",
   "execution_count": null,
   "id": "28cedc21",
   "metadata": {},
   "outputs": [],
   "source": []
  },
  {
   "cell_type": "markdown",
   "id": "d5b870a8",
   "metadata": {},
   "source": [
    "## Estimación de tasa de interés.\n",
    "---"
   ]
  },
  {
   "cell_type": "code",
   "execution_count": null,
   "id": "3115ccc1",
   "metadata": {},
   "outputs": [],
   "source": []
  },
  {
   "cell_type": "markdown",
   "id": "b6ff82a4",
   "metadata": {},
   "source": [
    "## Conclusiones y presentación de resultados.\n",
    "---"
   ]
  },
  {
   "cell_type": "code",
   "execution_count": null,
   "id": "f25a45ea",
   "metadata": {},
   "outputs": [],
   "source": []
  },
  {
   "cell_type": "markdown",
   "id": "3ee00d40",
   "metadata": {},
   "source": [
    "<script>\n",
    "  $(document).ready(function(){\n",
    "    $('div.prompt').hide();\n",
    "    $('div.back-to-top').hide();\n",
    "    $('nav#menubar').hide();\n",
    "    $('.breadcrumb').hide();\n",
    "    $('.hidden-print').hide();\n",
    "  });\n",
    "</script>\n",
    "\n",
    "<footer id=\"attribution\" style=\"float:right; color:#808080; background:#fff;\">\n",
    "Javier Contreras & Bryan Manica.\n",
    "</footer>"
   ]
  }
 ],
 "metadata": {
  "kernelspec": {
   "display_name": "Python 3 (ipykernel)",
   "language": "python",
   "name": "python3"
  },
  "language_info": {
   "codemirror_mode": {
    "name": "ipython",
    "version": 3
   },
   "file_extension": ".py",
   "mimetype": "text/x-python",
   "name": "python",
   "nbconvert_exporter": "python",
   "pygments_lexer": "ipython3",
   "version": "3.9.13"
  }
 },
 "nbformat": 4,
 "nbformat_minor": 5
}
